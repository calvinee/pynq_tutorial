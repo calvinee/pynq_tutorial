{
 "cells": [
  {
   "cell_type": "code",
   "execution_count": 1,
   "metadata": {
    "collapsed": false
   },
   "outputs": [
    {
     "data": {
      "text/plain": [
       "['BS_SEARCH_PATH',\n",
       " 'TUTORIAL_BITSTREAM',\n",
       " 'TUTORIAL_TCL',\n",
       " '__builtins__',\n",
       " '__cached__',\n",
       " '__doc__',\n",
       " '__file__',\n",
       " '__loader__',\n",
       " '__name__',\n",
       " '__package__',\n",
       " '__path__',\n",
       " '__spec__',\n",
       " 'os']"
      ]
     },
     "execution_count": 1,
     "metadata": {},
     "output_type": "execute_result"
    }
   ],
   "source": [
    "import pynq_tutorial\n",
    "dir(pynq_tutorial)"
   ]
  },
  {
   "cell_type": "code",
   "execution_count": 2,
   "metadata": {
    "collapsed": false
   },
   "outputs": [],
   "source": [
    "from pynq import Overlay\n",
    "Overlay(pynq_tutorial.TUTORIAL_BITSTREAM).download()"
   ]
  },
  {
   "cell_type": "code",
   "execution_count": 3,
   "metadata": {
    "collapsed": false
   },
   "outputs": [
    {
     "data": {
      "text/plain": [
       "{'SEG_axi_bram_ctrl_0_Mem0': [1073741824, 65536, None],\n",
       " 'SEG_axi_bram_ctrl_1_Mem0': [1107296256, 65536, None],\n",
       " 'SEG_axi_dma_0_Reg': [2151677952, 65536, None],\n",
       " 'SEG_axi_dma_1_Reg': [2151743488, 65536, None],\n",
       " 'SEG_axi_fifo_mm_s_0_Mem0': [2210398208, 65536, None],\n",
       " 'SEG_axi_fifo_mm_s_0_Mem1': [2210463744, 65536, None],\n",
       " 'SEG_axi_gpio_0_Reg': [1092616192, 65536, None],\n",
       " 'SEG_axi_gpio_1_Reg': [1092681728, 65536, None],\n",
       " 'SEG_axi_intc_0_Reg': [1098907648, 65536, None],\n",
       " 'SEG_axi_timer_0_Reg': [1115684864, 65536, None]}"
      ]
     },
     "execution_count": 3,
     "metadata": {},
     "output_type": "execute_result"
    }
   ],
   "source": [
    "from pynq import PL\n",
    "PL.ip_dict"
   ]
  }
 ],
 "metadata": {
  "kernelspec": {
   "display_name": "Python 3",
   "language": "python",
   "name": "python3"
  },
  "language_info": {
   "codemirror_mode": {
    "name": "ipython",
    "version": 3
   },
   "file_extension": ".py",
   "mimetype": "text/x-python",
   "name": "python",
   "nbconvert_exporter": "python",
   "pygments_lexer": "ipython3",
   "version": "3.6.0"
  }
 },
 "nbformat": 4,
 "nbformat_minor": 2
}

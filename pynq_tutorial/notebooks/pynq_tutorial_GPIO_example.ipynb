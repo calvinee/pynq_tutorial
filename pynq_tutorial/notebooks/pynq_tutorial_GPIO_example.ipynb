{
 "cells": [
  {
   "cell_type": "markdown",
   "metadata": {
    "deletable": true,
    "editable": true
   },
   "source": [
    "# Pynq GPIO tutorial using MMIO\n"
   ]
  },
  {
   "cell_type": "code",
   "execution_count": 1,
   "metadata": {
    "collapsed": false,
    "deletable": true,
    "editable": true
   },
   "outputs": [],
   "source": [
    "from pynq import Overlay\n",
    "ol = Overlay(\"pynq_tutorial.bit\")\n",
    "ol.download()"
   ]
  },
  {
   "cell_type": "markdown",
   "metadata": {
    "deletable": true,
    "editable": true
   },
   "source": [
    "Check addresses of IP in the overlay"
   ]
  },
  {
   "cell_type": "code",
   "execution_count": 2,
   "metadata": {
    "collapsed": false,
    "deletable": true,
    "editable": true
   },
   "outputs": [
    {
     "data": {
      "text/plain": [
       "{'SEG_axi_dma_from_pl_to_ps_Reg': [1078001664, 65536, None],\n",
       " 'SEG_axi_dma_from_ps_to_pl_Reg': [1077936128, 65536, None],\n",
       " 'SEG_btns_gpio_Reg': [1092681728, 65536, None],\n",
       " 'SEG_mb_bram_ctrl_1_Mem0': [1073741824, 65536, None],\n",
       " 'SEG_mb_bram_ctrl_2_Mem0': [1107296256, 65536, None],\n",
       " 'SEG_rgbleds_gpio_Reg': [1092747264, 65536, None],\n",
       " 'SEG_swsleds_gpio_Reg': [1092616192, 65536, None],\n",
       " 'SEG_system_interrupts_Reg': [1098907648, 65536, None]}"
      ]
     },
     "execution_count": 2,
     "metadata": {},
     "output_type": "execute_result"
    }
   ],
   "source": [
    "ol.ip_dict"
   ]
  },
  {
   "cell_type": "markdown",
   "metadata": {
    "deletable": true,
    "editable": true
   },
   "source": [
    "The addresses are in decimal. Check the address of the LED controller:"
   ]
  },
  {
   "cell_type": "code",
   "execution_count": 3,
   "metadata": {
    "collapsed": false,
    "deletable": true,
    "editable": true
   },
   "outputs": [
    {
     "name": "stdout",
     "output_type": "stream",
     "text": [
      "0x41200000\n"
     ]
    }
   ],
   "source": [
    "led_addr = ol.ip_dict[\"SEG_swsleds_gpio_Reg\"][0]\n",
    "print(\"0x\" + format(led_addr, '02x'))"
   ]
  },
  {
   "cell_type": "markdown",
   "metadata": {
    "deletable": true,
    "editable": true
   },
   "source": [
    "## Set up PL GPIO LED controller\n",
    "\n",
    "Two LEDs are connected to PL and will be accessed from the MMIO class. Note the LEDs are on channel 2 of the GPIO controller."
   ]
  },
  {
   "cell_type": "code",
   "execution_count": 4,
   "metadata": {
    "collapsed": false,
    "deletable": true,
    "editable": true
   },
   "outputs": [],
   "source": [
    "from pynq import MMIO\n",
    "CH2_OFFSET = 0x8\n",
    "leds = MMIO(led_addr + CH2_OFFSET)"
   ]
  },
  {
   "cell_type": "markdown",
   "metadata": {
    "deletable": true,
    "editable": true
   },
   "source": [
    "## Write to the LEDs\n",
    "This shoudl write to LD1 and LD0"
   ]
  },
  {
   "cell_type": "code",
   "execution_count": 5,
   "metadata": {
    "collapsed": false,
    "deletable": true,
    "editable": true
   },
   "outputs": [],
   "source": [
    "leds.write(0, 1) # Turn on LD0"
   ]
  },
  {
   "cell_type": "code",
   "execution_count": 6,
   "metadata": {
    "collapsed": true,
    "deletable": true,
    "editable": true
   },
   "outputs": [],
   "source": [
    "leds.write(0, 2) # Turn on LD1, and LD0 off"
   ]
  },
  {
   "cell_type": "code",
   "execution_count": 7,
   "metadata": {
    "collapsed": true,
    "deletable": true,
    "editable": true
   },
   "outputs": [],
   "source": [
    "leds.write(0, 0) # Turn off both LEDs"
   ]
  },
  {
   "cell_type": "markdown",
   "metadata": {
    "deletable": true,
    "editable": true
   },
   "source": [
    "## Set up PL GPIO buttons controller\n",
    "\n",
    "Two push-buttons are connected to PL and will be accessed from the MMIO class. "
   ]
  },
  {
   "cell_type": "code",
   "execution_count": 8,
   "metadata": {
    "collapsed": false,
    "deletable": true,
    "editable": true
   },
   "outputs": [],
   "source": [
    "from pynq import MMIO\n",
    "btn_addr = ol.ip_dict[\"SEG_btns_gpio_Reg\"][0]\n",
    "buttons = MMIO(ol.ip_dict[\"SEG_btns_gpio_Reg\"][0])"
   ]
  },
  {
   "cell_type": "markdown",
   "metadata": {
    "deletable": true,
    "editable": true
   },
   "source": [
    "## Read from pushbuttons\n",
    "\n",
    "This will read a 2-bit value from BTN1 and BTN0"
   ]
  },
  {
   "cell_type": "code",
   "execution_count": 9,
   "metadata": {
    "collapsed": false,
    "deletable": true,
    "editable": true
   },
   "outputs": [
    {
     "data": {
      "text/plain": [
       "2"
      ]
     },
     "execution_count": 9,
     "metadata": {},
     "output_type": "execute_result"
    }
   ],
   "source": [
    "buttons.read()"
   ]
  },
  {
   "cell_type": "markdown",
   "metadata": {
    "deletable": true,
    "editable": true
   },
   "source": [
    "## Set up PS EMIO GPIO LED controller"
   ]
  },
  {
   "cell_type": "code",
   "execution_count": 10,
   "metadata": {
    "collapsed": true,
    "deletable": true,
    "editable": true
   },
   "outputs": [],
   "source": [
    "from pynq import GPIO"
   ]
  },
  {
   "cell_type": "markdown",
   "metadata": {
    "deletable": true,
    "editable": true
   },
   "source": [
    "EMIO GPIO pins 7 and 8 are connected to LD3 and LD4. GPIO pins need a lookup to determine the linux number of the GPIO pin. This is done with ** get_gpio_pin() **"
   ]
  },
  {
   "cell_type": "code",
   "execution_count": 11,
   "metadata": {
    "collapsed": false,
    "deletable": true,
    "editable": true
   },
   "outputs": [],
   "source": [
    "ps_led2 = GPIO(GPIO.get_gpio_pin(7), 'out')\n",
    "ps_led3 = GPIO(GPIO.get_gpio_pin(8), 'out')"
   ]
  },
  {
   "cell_type": "markdown",
   "metadata": {
    "deletable": true,
    "editable": true
   },
   "source": [
    "Write something to the LEDs"
   ]
  },
  {
   "cell_type": "code",
   "execution_count": 12,
   "metadata": {
    "collapsed": false,
    "deletable": true,
    "editable": true
   },
   "outputs": [],
   "source": [
    "ps_led2.write(0)\n",
    "ps_led3.write(1)"
   ]
  },
  {
   "cell_type": "code",
   "execution_count": 13,
   "metadata": {
    "collapsed": true,
    "deletable": true,
    "editable": true
   },
   "outputs": [],
   "source": [
    "ps_led2.write(1)\n",
    "ps_led3.write(0)"
   ]
  },
  {
   "cell_type": "code",
   "execution_count": 14,
   "metadata": {
    "collapsed": true,
    "deletable": true,
    "editable": true
   },
   "outputs": [],
   "source": [
    "ps_led2.write(0)\n",
    "ps_led3.write(0)"
   ]
  },
  {
   "cell_type": "markdown",
   "metadata": {
    "deletable": true,
    "editable": true
   },
   "source": [
    "## Set up PS EMIO GPIO buttons controller\n",
    "BTN3 and BTN2 on the board are connected to EMIO GPIO 0 and 1"
   ]
  },
  {
   "cell_type": "code",
   "execution_count": 15,
   "metadata": {
    "collapsed": true,
    "deletable": true,
    "editable": true
   },
   "outputs": [],
   "source": [
    "ps_btn0 = GPIO(GPIO.get_gpio_pin(0), 'in')\n",
    "ps_btn1 = GPIO(GPIO.get_gpio_pin(1), 'in')"
   ]
  },
  {
   "cell_type": "code",
   "execution_count": 16,
   "metadata": {
    "collapsed": false,
    "deletable": true,
    "editable": true
   },
   "outputs": [
    {
     "name": "stdout",
     "output_type": "stream",
     "text": [
      "1\n",
      "0\n"
     ]
    }
   ],
   "source": [
    "print(ps_btn0.read())\n",
    "print(ps_btn1.read())"
   ]
  }
 ],
 "metadata": {
  "kernelspec": {
   "display_name": "Python 3",
   "language": "python",
   "name": "python3"
  },
  "language_info": {
   "codemirror_mode": {
    "name": "ipython",
    "version": 3
   },
   "file_extension": ".py",
   "mimetype": "text/x-python",
   "name": "python",
   "nbconvert_exporter": "python",
   "pygments_lexer": "ipython3",
   "version": "3.6.0"
  }
 },
 "nbformat": 4,
 "nbformat_minor": 2
}
